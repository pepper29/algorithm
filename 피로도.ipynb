{
  "nbformat": 4,
  "nbformat_minor": 0,
  "metadata": {
    "colab": {
      "provenance": [],
      "authorship_tag": "ABX9TyNFDCM6z6QFWAxmQdvX7EfC",
      "include_colab_link": true
    },
    "kernelspec": {
      "name": "python3",
      "display_name": "Python 3"
    },
    "language_info": {
      "name": "python"
    }
  },
  "cells": [
    {
      "cell_type": "markdown",
      "metadata": {
        "id": "view-in-github",
        "colab_type": "text"
      },
      "source": [
        "<a href=\"https://colab.research.google.com/github/pepper29/algorithm/blob/master/%ED%94%BC%EB%A1%9C%EB%8F%84.ipynb\" target=\"_parent\"><img src=\"https://colab.research.google.com/assets/colab-badge.svg\" alt=\"Open In Colab\"/></a>"
      ]
    },
    {
      "cell_type": "code",
      "execution_count": null,
      "metadata": {
        "id": "_CYBl-ORoAJh"
      },
      "outputs": [],
      "source": [
        "문제 설명\n",
        "XX게임에는 피로도 시스템(0 이상의 정수로 표현합니다)이 있으며, 일정 피로도를 사용해서 던전을 탐험할 수 있습니다. 이때, 각 던전마다 탐험을 시작하기 위해 필요한 \"최소 필요 피로도\"와 던전 탐험을 마쳤을 때 소모되는 \"소모 피로도\"가 있습니다. \"최소 필요 피로도\"는 해당 던전을 탐험하기 위해 가지고 있어야 하는 최소한의 피로도를 나타내며, \"소모 피로도\"는 던전을 탐험한 후 소모되는 피로도를 나타냅니다. 예를 들어 \"최소 필요 피로도\"가 80, \"소모 피로도\"가 20인 던전을 탐험하기 위해서는 유저의 현재 남은 피로도는 80 이상 이어야 하며, 던전을 탐험한 후에는 피로도 20이 소모됩니다.\n",
        "\n",
        "이 게임에는 하루에 한 번씩 탐험할 수 있는 던전이 여러개 있는데, 한 유저가 오늘 이 던전들을 최대한 많이 탐험하려 합니다. 유저의 현재 피로도 k와 각 던전별 \"최소 필요 피로도\", \"소모 피로도\"가 담긴 2차원 배열 dungeons 가 매개변수로 주어질 때, 유저가 탐험할수 있는 최대 던전 수를 return 하도록 solution 함수를 완성해주세요.\n",
        "\n",
        "제한사항\n",
        "k는 1 이상 5,000 이하인 자연수입니다.\n",
        "dungeons의 세로(행) 길이(즉, 던전의 개수)는 1 이상 8 이하입니다.\n",
        "dungeons의 가로(열) 길이는 2 입니다.\n",
        "dungeons의 각 행은 각 던전의 [\"최소 필요 피로도\", \"소모 피로도\"] 입니다.\n",
        "\"최소 필요 피로도\"는 항상 \"소모 피로도\"보다 크거나 같습니다.\n",
        "\"최소 필요 피로도\"와 \"소모 피로도\"는 1 이상 1,000 이하인 자연수입니다.\n",
        "서로 다른 던전의 [\"최소 필요 피로도\", \"소모 피로도\"]가 서로 같을 수 있습니다.\n",
        "입출력 예\n",
        "k\tdungeons\tresult\n",
        "80\t[[80,20],[50,40],[30,10]]\t3\n",
        "입출력 예 설명\n",
        "현재 피로도는 80입니다.\n",
        "\n",
        "만약, 첫 번째 → 두 번째 → 세 번째 던전 순서로 탐험한다면\n",
        "\n",
        "현재 피로도는 80이며, 첫 번째 던전을 돌기위해 필요한 \"최소 필요 피로도\" 또한 80이므로, 첫 번째 던전을 탐험할 수 있습니다. 첫 번째 던전의 \"소모 피로도\"는 20이므로, 던전을 탐험한 후 남은 피로도는 60입니다.\n",
        "남은 피로도는 60이며, 두 번째 던전을 돌기위해 필요한 \"최소 필요 피로도\"는 50이므로, 두 번째 던전을 탐험할 수 있습니다. 두 번째 던전의 \"소모 피로도\"는 40이므로, 던전을 탐험한 후 남은 피로도는 20입니다.\n",
        "남은 피로도는 20이며, 세 번째 던전을 돌기위해 필요한 \"최소 필요 피로도\"는 30입니다. 따라서 세 번째 던전은 탐험할 수 없습니다.\n",
        "만약, 첫 번째 → 세 번째 → 두 번째 던전 순서로 탐험한다면\n",
        "\n",
        "현재 피로도는 80이며, 첫 번째 던전을 돌기위해 필요한 \"최소 필요 피로도\" 또한 80이므로, 첫 번째 던전을 탐험할 수 있습니다. 첫 번째 던전의 \"소모 피로도\"는 20이므로, 던전을 탐험한 후 남은 피로도는 60입니다.\n",
        "남은 피로도는 60이며, 세 번째 던전을 돌기위해 필요한 \"최소 필요 피로도\"는 30이므로, 세 번째 던전을 탐험할 수 있습니다. 세 번째 던전의 \"소모 피로도\"는 10이므로, 던전을 탐험한 후 남은 피로도는 50입니다.\n",
        "남은 피로도는 50이며, 두 번째 던전을 돌기위해 필요한 \"최소 필요 피로도\"는 50이므로, 두 번째 던전을 탐험할 수 있습니다. 두 번째 던전의 \"소모 피로도\"는 40이므로, 던전을 탐험한 후 남은 피로도는 10입니다.\n",
        "따라서 이 경우 세 던전을 모두 탐험할 수 있으며, 유저가 탐험할 수 있는 최대 던전 수는 3입니다.\n",
        "\n",
        "※ 공지 - 2022년 2월 25일 테스트케이스가 추가되었습니다."
      ]
    },
    {
      "cell_type": "code",
      "source": [
        "# 틀린 문제\n",
        "\n",
        "def solution(k, dungeons):\n",
        "    # 최대 던전을 저장하는 변수\n",
        "    answer = [0]\n",
        "    print(answer)\n",
        "\n",
        "    # 던전 방문 기록: 총던전 수만큼 False로 기록\n",
        "    visited = [False] * len(dungeons)\n",
        "    print(visited)\n",
        "\n",
        "    # 깊이 우선탐색(dfs) 정의\n",
        "    def dfs(current_k, count):\n",
        "\n",
        "        # 매번 최대값 갱신\n",
        "        answer[0] = max(answer[0], count)\n",
        "\n",
        "        # 모든 던전 확인\n",
        "        for i in range(len(dungeons)):\n",
        "            min_f, cost_f = dungeons[i]\n",
        "\n",
        "            # 조건: 아직 방문 안 했고(기본 True, 들어갈 피로도가 충분하다면\n",
        "            if not visited[i] and current_k >= min_f:\n",
        "\n",
        "                # 방문했다면 기록\n",
        "                visited[i] = True\n",
        "\n",
        "                # 피로도 감소, 카운트 증가\n",
        "                dfs(current_k - cost_f, count+1)\n",
        "\n",
        "                # 다른 경로 체크를 위해서 경로 초기화\n",
        "                visited[i] = False\n",
        "    # 다시 탐험 시작\n",
        "    dfs(k, 0)\n",
        "    return answer[0]"
      ],
      "metadata": {
        "id": "b6aDyokyoDQR"
      },
      "execution_count": null,
      "outputs": []
    }
  ]
}