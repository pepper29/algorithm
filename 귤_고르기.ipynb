{
  "nbformat": 4,
  "nbformat_minor": 0,
  "metadata": {
    "colab": {
      "provenance": [],
      "authorship_tag": "ABX9TyN3FHHYyhaUdt84faGonUJX",
      "include_colab_link": true
    },
    "kernelspec": {
      "name": "python3",
      "display_name": "Python 3"
    },
    "language_info": {
      "name": "python"
    }
  },
  "cells": [
    {
      "cell_type": "markdown",
      "metadata": {
        "id": "view-in-github",
        "colab_type": "text"
      },
      "source": [
        "<a href=\"https://colab.research.google.com/github/pepper29/algorithm/blob/master/%EA%B7%A4_%EA%B3%A0%EB%A5%B4%EA%B8%B0.ipynb\" target=\"_parent\"><img src=\"https://colab.research.google.com/assets/colab-badge.svg\" alt=\"Open In Colab\"/></a>"
      ]
    },
    {
      "cell_type": "code",
      "execution_count": null,
      "metadata": {
        "id": "R54SmarxTpQs"
      },
      "outputs": [],
      "source": [
        "문제 설명\n",
        "경화는 과수원에서 귤을 수확했습니다. 경화는 수확한 귤 중 'k'개를 골라 상자 하나에 담아 판매하려고 합니다. 그런데 수확한 귤의 크기가 일정하지 않아 보기에 좋지 않다고 생각한 경화는 귤을 크기별로 분류했을 때 서로 다른 종류의 수를 최소화하고 싶습니다.\n",
        "\n",
        "예를 들어, 경화가 수확한 귤 8개의 크기가 [1, 3, 2, 5, 4, 5, 2, 3] 이라고 합시다. 경화가 귤 6개를 판매하고 싶다면, 크기가 1, 4인 귤을 제외한 여섯 개의 귤을 상자에 담으면, 귤의 크기의 종류가 2, 3, 5로 총 3가지가 되며 이때가 서로 다른 종류가 최소일 때입니다.\n",
        "\n",
        "경화가 한 상자에 담으려는 귤의 개수 k와 귤의 크기를 담은 배열 tangerine이 매개변수로 주어집니다. 경화가 귤 k개를 고를 때 크기가 서로 다른 종류의 수의 최솟값을 return 하도록 solution 함수를 작성해주세요.\n",
        "\n",
        "제한사항\n",
        "1 ≤ k ≤ tangerine의 길이 ≤ 100,000\n",
        "1 ≤ tangerine의 원소 ≤ 10,000,000\n",
        "입출력 예\n",
        "k\ttangerine\tresult\n",
        "6\t[1, 3, 2, 5, 4, 5, 2, 3]\t3\n",
        "4\t[1, 3, 2, 5, 4, 5, 2, 3]\t2\n",
        "2\t[1, 1, 1, 1, 2, 2, 2, 3]\t1\n",
        "입출력 예 설명\n",
        "입출력 예 #1\n",
        "\n",
        "본문에서 설명한 예시입니다.\n",
        "입출력 예 #2\n",
        "\n",
        "경화는 크기가 2인 귤 2개와 3인 귤 2개 또는 2인 귤 2개와 5인 귤 2개 또는 3인 귤 2개와 5인 귤 2개로 귤을 판매할 수 있습니다. 이때의 크기 종류는 2가지로 이 값이 최소가 됩니다.\n",
        "입출력 예 #3\n",
        "\n",
        "경화는 크기가 1인 귤 2개를 판매하거나 2인 귤 2개를 판매할 수 있습니다. 이때의 크기 종류는 1가지로, 이 값이 최소가 됩니다."
      ]
    },
    {
      "cell_type": "code",
      "source": [
        "def solution(k, tangerine):\n",
        "    answer = 0\n",
        "    frequency = {}  # 빈도를 저장할 딕셔너리\n",
        "\n",
        "    # 1. 리스트를 순회하며 각 요소의 빈도를 셉니다.\n",
        "    for item in tangerine:\n",
        "        if item in frequency:\n",
        "            frequency[item] += 1\n",
        "        else:\n",
        "            frequency[item] = 1\n",
        "    # print(frequency)\n",
        "\n",
        "    values = list(frequency.values())\n",
        "    values.sort(reverse=True)\n",
        "    #print(values)\n",
        "\n",
        "    for j in values:\n",
        "        if k <= 0:\n",
        "            break # 이미 k개를 다 채웠으면\n",
        "\n",
        "        if k > 0:\n",
        "            k -= j\n",
        "            answer += 1\n",
        "\n",
        "    return answer"
      ],
      "metadata": {
        "id": "9DtWTR0YTqgQ"
      },
      "execution_count": null,
      "outputs": []
    },
    {
      "cell_type": "code",
      "source": [],
      "metadata": {
        "id": "7ak4DxqgTqiZ"
      },
      "execution_count": null,
      "outputs": []
    },
    {
      "cell_type": "code",
      "source": [],
      "metadata": {
        "id": "xuXYp55-Tqkg"
      },
      "execution_count": null,
      "outputs": []
    },
    {
      "cell_type": "code",
      "source": [],
      "metadata": {
        "id": "gC9q2r4QTqmd"
      },
      "execution_count": null,
      "outputs": []
    }
  ]
}