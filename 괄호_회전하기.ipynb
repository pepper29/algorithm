{
  "nbformat": 4,
  "nbformat_minor": 0,
  "metadata": {
    "colab": {
      "provenance": [],
      "authorship_tag": "ABX9TyNetQbDu53Xdhp4fBSl8VZi",
      "include_colab_link": true
    },
    "kernelspec": {
      "name": "python3",
      "display_name": "Python 3"
    },
    "language_info": {
      "name": "python"
    }
  },
  "cells": [
    {
      "cell_type": "markdown",
      "metadata": {
        "id": "view-in-github",
        "colab_type": "text"
      },
      "source": [
        "<a href=\"https://colab.research.google.com/github/pepper29/algorithm/blob/master/%EA%B4%84%ED%98%B8_%ED%9A%8C%EC%A0%84%ED%95%98%EA%B8%B0.ipynb\" target=\"_parent\"><img src=\"https://colab.research.google.com/assets/colab-badge.svg\" alt=\"Open In Colab\"/></a>"
      ]
    },
    {
      "cell_type": "code",
      "execution_count": null,
      "metadata": {
        "id": "0XQZ_2fIH3N-"
      },
      "outputs": [],
      "source": [
        "문제 설명\n",
        "다음 규칙을 지키는 문자열을 올바른 괄호 문자열이라고 정의합니다.\n",
        "\n",
        "(), [], {} 는 모두 올바른 괄호 문자열입니다.\n",
        "만약 A가 올바른 괄호 문자열이라면, (A), [A], {A} 도 올바른 괄호 문자열입니다. 예를 들어, [] 가 올바른 괄호 문자열이므로, ([]) 도 올바른 괄호 문자열입니다.\n",
        "만약 A, B가 올바른 괄호 문자열이라면, AB 도 올바른 괄호 문자열입니다. 예를 들어, {} 와 ([]) 가 올바른 괄호 문자열이므로, {}([]) 도 올바른 괄호 문자열입니다.\n",
        "대괄호, 중괄호, 그리고 소괄호로 이루어진 문자열 s가 매개변수로 주어집니다. 이 s를 왼쪽으로 x (0 ≤ x < (s의 길이)) 칸만큼 회전시켰을 때 s가 올바른 괄호 문자열이 되게 하는 x의 개수를 return 하도록 solution 함수를 완성해주세요.\n",
        "\n",
        "제한사항\n",
        "s의 길이는 1 이상 1,000 이하입니다.\n",
        "입출력 예\n",
        "s\tresult\n",
        "\"[](){}\"\t3\n",
        "\"}]()[{\"\t2\n",
        "\"[)(]\"\t0\n",
        "\"}}}\"\t0\n",
        "입출력 예 설명\n",
        "입출력 예 #1\n",
        "\n",
        "다음 표는 \"[](){}\" 를 회전시킨 모습을 나타낸 것입니다.\n",
        "x\ts를 왼쪽으로 x칸만큼 회전\t올바른 괄호 문자열?\n",
        "0\t\"[](){}\"\tO\n",
        "1\t\"](){}[\"\tX\n",
        "2\t\"(){}[]\"\tO\n",
        "3\t\"){}[](\"\tX\n",
        "4\t\"{}[]()\"\tO\n",
        "5\t\"}[](){\"\tX\n",
        "올바른 괄호 문자열이 되는 x가 3개이므로, 3을 return 해야 합니다.\n",
        "입출력 예 #2\n",
        "\n",
        "다음 표는 \"}]()[{\" 를 회전시킨 모습을 나타낸 것입니다.\n",
        "x\ts를 왼쪽으로 x칸만큼 회전\t올바른 괄호 문자열?\n",
        "0\t\"}]()[{\"\tX\n",
        "1\t\"]()[{}\"\tX\n",
        "2\t\"()[{}]\"\tO\n",
        "3\t\")[{}](\"\tX\n",
        "4\t\"[{}]()\"\tO\n",
        "5\t\"{}]()[\"\tX\n",
        "올바른 괄호 문자열이 되는 x가 2개이므로, 2를 return 해야 합니다.\n",
        "입출력 예 #3\n",
        "\n",
        "s를 어떻게 회전하더라도 올바른 괄호 문자열을 만들 수 없으므로, 0을 return 해야 합니다.\n",
        "입출력 예 #4\n",
        "\n",
        "s를 어떻게 회전하더라도 올바른 괄호 문자열을 만들 수 없으므로, 0을 return 해야 합니다.\n",
        "※ 공지 - 2021년 4월 16일 테스트케이스가 추가되었습니다."
      ]
    },
    {
      "cell_type": "code",
      "source": [
        "def solution(s):\n",
        "    count = 0\n",
        "\n",
        "    # 1. 문자열 s의 길이만큼 반복하면서 회전.\n",
        "    for i in range(len(s)):\n",
        "        #print(f'{i}회차')\n",
        "        # 첫 번째 바퀴가 아닐 때만 s를 왼쪽으로 한 칸 회전.\n",
        "        if i > 0:\n",
        "            s = s[1:] + s[0]\n",
        "\n",
        "        a = [] # 정상 괄호 모이는 곳\n",
        "        is_valid = True # 일단은 올바른 열로 설정\n",
        "        # 여는 괄호와 닫는 괄호가 만나면 올바른 문자열,\n",
        "        # 만약 닫는 괄호로 시작된다면 잘못된 문자열.\n",
        "        for n in s:\n",
        "            # 여는 괄호일때\n",
        "            if n == '[' or n == '{' or n == '(' :\n",
        "                a.append(n)\n",
        "                #print('a:',a)\n",
        "            # 닫는 괄호일때\n",
        "            else:\n",
        "                if len(a) == 0: #  if not a: 도 가능\n",
        "                    is_valid = False\n",
        "                    #print('비어있기에 중단하고 다음문자 확인')\n",
        "                    break\n",
        "                last_open = a.pop()\n",
        "                # 2. 짝이 맞으면 그냥 넘어가고, 안 맞으면 실패 처리!\n",
        "                if not ((last_open == '(' and n == ')') or \\\n",
        "                        (last_open == '{' and n == '}') or \\\n",
        "                        (last_open == '[' and n == ']')):\n",
        "                    is_valid = False\n",
        "                    #print('짝이 안맞기때문에 중단하고 다음문자 확인')\n",
        "                    break\n",
        "        # a에 문자열이 남아있어도 실패\n",
        "        if a:\n",
        "            is_valid = False\n",
        "            #print('문자열이 남아있기에 중단하고 다음문자 확인')\n",
        "        # 판단 종료\n",
        "\n",
        "        # is_valid가 True일때\n",
        "        if is_valid:\n",
        "            count += 1\n",
        "            #print(f'count 1추가,현재:{count}')\n",
        "\n",
        "    return count"
      ],
      "metadata": {
        "id": "ewha6dAxIBm5"
      },
      "execution_count": null,
      "outputs": []
    }
  ]
}