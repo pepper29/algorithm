{
  "nbformat": 4,
  "nbformat_minor": 0,
  "metadata": {
    "colab": {
      "provenance": [],
      "authorship_tag": "ABX9TyMboSG4Luuq0h+n8OAsy9bL",
      "include_colab_link": true
    },
    "kernelspec": {
      "name": "python3",
      "display_name": "Python 3"
    },
    "language_info": {
      "name": "python"
    }
  },
  "cells": [
    {
      "cell_type": "markdown",
      "metadata": {
        "id": "view-in-github",
        "colab_type": "text"
      },
      "source": [
        "<a href=\"https://colab.research.google.com/github/pepper29/algorithm/blob/master/%ED%95%A0%EC%9D%B8%ED%96%89%EC%82%AC.ipynb\" target=\"_parent\"><img src=\"https://colab.research.google.com/assets/colab-badge.svg\" alt=\"Open In Colab\"/></a>"
      ]
    },
    {
      "cell_type": "code",
      "execution_count": null,
      "metadata": {
        "id": "9lxQHdXXhbI9"
      },
      "outputs": [],
      "source": [
        "문제 설명\n",
        "XYZ 마트는 일정한 금액을 지불하면 10일 동안 회원 자격을 부여합니다. XYZ 마트에서는 회원을 대상으로 매일 한 가지 제품을 할인하는 행사를 합니다. 할인하는 제품은 하루에 하나씩만 구매할 수 있습니다. 알뜰한 정현이는 자신이 원하는 제품과 수량이 할인하는 날짜와 10일 연속으로 일치할 경우에 맞춰서 회원가입을 하려 합니다.\n",
        "\n",
        "예를 들어, 정현이가 원하는 제품이 바나나 3개, 사과 2개, 쌀 2개, 돼지고기 2개, 냄비 1개이며, XYZ 마트에서 14일간 회원을 대상으로 할인하는 제품이 날짜 순서대로 치킨, 사과, 사과, 바나나, 쌀, 사과, 돼지고기, 바나나, 돼지고기, 쌀, 냄비, 바나나, 사과, 바나나인 경우에 대해 알아봅시다. 첫째 날부터 열흘 간에는 냄비가 할인하지 않기 때문에 첫째 날에는 회원가입을 하지 않습니다. 둘째 날부터 열흘 간에는 바나나를 원하는 만큼 할인구매할 수 없기 때문에 둘째 날에도 회원가입을 하지 않습니다. 셋째 날, 넷째 날, 다섯째 날부터 각각 열흘은 원하는 제품과 수량이 일치하기 때문에 셋 중 하루에 회원가입을 하려 합니다.\n",
        "\n",
        "정현이가 원하는 제품을 나타내는 문자열 배열 want와 정현이가 원하는 제품의 수량을 나타내는 정수 배열 number, XYZ 마트에서 할인하는 제품을 나타내는 문자열 배열 discount가 주어졌을 때, 회원등록시 정현이가 원하는 제품을 모두 할인 받을 수 있는 회원등록 날짜의 총 일수를 return 하는 solution 함수를 완성하시오. 가능한 날이 없으면 0을 return 합니다.\n",
        "\n",
        "제한사항\n",
        "1 ≤ want의 길이 = number의 길이 ≤ 10\n",
        "1 ≤ number의 원소 ≤ 10\n",
        "number[i]는 want[i]의 수량을 의미하며, number의 원소의 합은 10입니다.\n",
        "10 ≤ discount의 길이 ≤ 100,000\n",
        "want와 discount의 원소들은 알파벳 소문자로 이루어진 문자열입니다.\n",
        "1 ≤ want의 원소의 길이, discount의 원소의 길이 ≤ 12\n",
        "입출력 예\n",
        "want\tnumber\tdiscount\tresult\n",
        "[\"banana\", \"apple\", \"rice\", \"pork\", \"pot\"]\t[3, 2, 2, 2, 1]\t[\"chicken\", \"apple\", \"apple\", \"banana\", \"rice\", \"apple\", \"pork\", \"banana\", \"pork\", \"rice\", \"pot\", \"banana\", \"apple\", \"banana\"]\t3\n",
        "[\"apple\"]\t[10]\t[\"banana\", \"banana\", \"banana\", \"banana\", \"banana\", \"banana\", \"banana\", \"banana\", \"banana\", \"banana\"]\t0\n",
        "입출력 예 설명\n",
        "입출력 예 #1\n",
        "\n",
        "문제 예시와 같습니다.\n",
        "입출력 예 #2\n",
        "\n",
        "사과가 할인하는 날이 없으므로 0을 return 합니다.\n",
        "※ 공지 - 2024년 1월 26일 문제 지문의 오탈자가 수정되었습니다."
      ]
    },
    {
      "cell_type": "code",
      "source": [
        "'''\n",
        "금액 지불 -> 10일동안 회원\n",
        "매일 1가지 제품 할인(회원, 하루 1회만 구매가능)\n",
        "정현은 10일동안 원하는 제품이 있을때만 회원권을 구매하려고 함.\n",
        "\n",
        "정현이 원하는 제품은 want\n",
        "정현이 원하는 제품의 수량은 number\n",
        "마트의 할인제품은 discount\n",
        "=> 회원등록시 정현이 회원등록날짜의 총 일수는? (없으면 0)\n",
        "\n",
        "\n",
        "'''\n",
        "def solution(want, number, discount):\n",
        "    answer = 0\n",
        "\n",
        "\n",
        "    # Step1: zip() 함수를 사용해서 딕셔너리화\n",
        "    wish_dict = {}\n",
        "    for w, n in zip(want, number):\n",
        "        wish_dict[w] = n\n",
        "    #print(wish_dict) # \t{'banana': 3, 'apple': 2, 'rice': 2, 'pork': 2, 'pot': 1}\n",
        "\n",
        "    # Step2: 할인품목과 비교해서 10일연속 가능한 숫자로 만들어주기\n",
        "    # 단순히 for 문 반복으로는 뒷부분의 할인 품목부터 시작할때는 확인불가한 문제\n",
        "    # 생각해야하는 것 14일간 제공되기 때문에 10묶음이 되는 마지막 날은 1일차부터 4일차까지.\n",
        "    # 그 10개씩 아이템을 확인해야하기 때문에 해당한느 부분을 딕셔너리로 묶어야함.\n",
        "    # discount[i : i + 10]\n",
        "    # range(len(discount)-9) 이유는 총 14일때 14-9=5, range(5)=0~4이기 때문.(i가 5면 5~15라서 범위 초과)\n",
        "    # Step2: 10일 단위로 확인하기\n",
        "\n",
        "    for i in range(len(discount)-9):\n",
        "\n",
        "        check_slice = discount[i:i+10]\n",
        "        #print(check_slice)\n",
        "        check_dict = {}\n",
        "        for item in check_slice:\n",
        "            if item in check_dict:\n",
        "                check_dict[item] = check_dict[item]+1\n",
        "            else:\n",
        "                check_dict[item] = 1\n",
        "        #print(check_dict)\n",
        "        if wish_dict == check_dict:\n",
        "            answer += 1\n",
        "    return answer"
      ],
      "metadata": {
        "id": "dkggYLTMhbt-"
      },
      "execution_count": null,
      "outputs": []
    },
    {
      "cell_type": "code",
      "source": [],
      "metadata": {
        "id": "mXsQcUZRhbv9"
      },
      "execution_count": null,
      "outputs": []
    },
    {
      "cell_type": "code",
      "source": [],
      "metadata": {
        "id": "gx1Z2WORhbyC"
      },
      "execution_count": null,
      "outputs": []
    },
    {
      "cell_type": "code",
      "source": [],
      "metadata": {
        "id": "6EYA8Xryhb0G"
      },
      "execution_count": null,
      "outputs": []
    },
    {
      "cell_type": "code",
      "source": [],
      "metadata": {
        "id": "7zhOlwffhb2B"
      },
      "execution_count": null,
      "outputs": []
    }
  ]
}