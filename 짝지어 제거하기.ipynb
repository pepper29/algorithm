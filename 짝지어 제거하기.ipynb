{
  "nbformat": 4,
  "nbformat_minor": 0,
  "metadata": {
    "colab": {
      "provenance": [],
      "authorship_tag": "ABX9TyPO5WHPD37oG5jG+ezskTw/",
      "include_colab_link": true
    },
    "kernelspec": {
      "name": "python3",
      "display_name": "Python 3"
    },
    "language_info": {
      "name": "python"
    }
  },
  "cells": [
    {
      "cell_type": "markdown",
      "metadata": {
        "id": "view-in-github",
        "colab_type": "text"
      },
      "source": [
        "<a href=\"https://colab.research.google.com/github/pepper29/algorithm/blob/master/%EC%A7%9D%EC%A7%80%EC%96%B4%20%EC%A0%9C%EA%B1%B0%ED%95%98%EA%B8%B0.ipynb\" target=\"_parent\"><img src=\"https://colab.research.google.com/assets/colab-badge.svg\" alt=\"Open In Colab\"/></a>"
      ]
    },
    {
      "cell_type": "code",
      "execution_count": null,
      "metadata": {
        "id": "UeiBniu9xubn"
      },
      "outputs": [],
      "source": [
        "문제 설명\n",
        "짝지어 제거하기는, 알파벳 소문자로 이루어진 문자열을 가지고 시작합니다. 먼저 문자열에서 같은 알파벳이 2개 붙어 있는 짝을 찾습니다. 그다음, 그 둘을 제거한 뒤, 앞뒤로 문자열을 이어 붙입니다. 이 과정을 반복해서 문자열을 모두 제거한다면 짝지어 제거하기가 종료됩니다. 문자열 S가 주어졌을 때, 짝지어 제거하기를 성공적으로 수행할 수 있는지 반환하는 함수를 완성해 주세요. 성공적으로 수행할 수 있으면 1을, 아닐 경우 0을 리턴해주면 됩니다.\n",
        "\n",
        "예를 들어, 문자열 S = baabaa 라면\n",
        "\n",
        "b aa baa → bb aa → aa →\n",
        "\n",
        "의 순서로 문자열을 모두 제거할 수 있으므로 1을 반환합니다.\n",
        "\n",
        "제한사항\n",
        "문자열의 길이 : 1,000,000이하의 자연수\n",
        "문자열은 모두 소문자로 이루어져 있습니다.\n",
        "입출력 예\n",
        "s\tresult\n",
        "baabaa\t1\n",
        "cdcd\t0\n",
        "입출력 예 설명\n",
        "입출력 예 #1\n",
        "위의 예시와 같습니다.\n",
        "입출력 예 #2\n",
        "문자열이 남아있지만 짝지어 제거할 수 있는 문자열이 더 이상 존재하지 않기 때문에 0을 반환합니다.\n",
        "\n",
        "※ 공지 - 2020년 6월 8일 테스트케이스가 추가되었습니다.\n",
        "※ 공지 - 2023년 8월 31일 테스트케이스가 추가되었습니다. 기존에 제출한 코드가 통과하지 못할 수도 있습니다."
      ]
    },
    {
      "cell_type": "code",
      "source": [
        "def solution(s):\n",
        "    answer = []\n",
        "    for i in s:\n",
        "        #print('i:',i)\n",
        "        if len(answer) == 0:\n",
        "            answer.append(i) # 빈 배열에 담기\n",
        "            #print('배열에 담았습니다. 다음 수로 넘어갑니다.')\n",
        "\n",
        "        elif len(answer) != 0:\n",
        "            #print('배열을 비교합니다.')\n",
        "            #print('비교대상:',i,answer[-1])\n",
        "            if answer[-1] == i:\n",
        "                answer.pop()\n",
        "                #print('동일하기 때문에 제거합니다.')\n",
        "            else:\n",
        "                answer.append(i) # 짝이 아니면 현재 문자 추가\n",
        "                #print('짝이 아니기에 추가합니다.')\n",
        "    if len(answer) == 0:\n",
        "        return 1\n",
        "    else:\n",
        "        return 0\n",
        "    #return answer"
      ],
      "metadata": {
        "id": "QJAa2juFxwlT"
      },
      "execution_count": null,
      "outputs": []
    },
    {
      "cell_type": "code",
      "source": [],
      "metadata": {
        "id": "kmpN-luixwpZ"
      },
      "execution_count": null,
      "outputs": []
    },
    {
      "cell_type": "code",
      "source": [],
      "metadata": {
        "id": "ZEVNkzCJxwri"
      },
      "execution_count": null,
      "outputs": []
    },
    {
      "cell_type": "code",
      "source": [],
      "metadata": {
        "id": "-X3B6sNaxwtj"
      },
      "execution_count": null,
      "outputs": []
    },
    {
      "cell_type": "code",
      "source": [],
      "metadata": {
        "id": "lU06rtyuxwvu"
      },
      "execution_count": null,
      "outputs": []
    }
  ]
}