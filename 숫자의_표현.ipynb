{
  "nbformat": 4,
  "nbformat_minor": 0,
  "metadata": {
    "colab": {
      "provenance": [],
      "authorship_tag": "ABX9TyOJK1wKULKts+/fDYOKzF8d",
      "include_colab_link": true
    },
    "kernelspec": {
      "name": "python3",
      "display_name": "Python 3"
    },
    "language_info": {
      "name": "python"
    }
  },
  "cells": [
    {
      "cell_type": "markdown",
      "metadata": {
        "id": "view-in-github",
        "colab_type": "text"
      },
      "source": [
        "<a href=\"https://colab.research.google.com/github/pepper29/algorithm/blob/master/%EC%88%AB%EC%9E%90%EC%9D%98_%ED%91%9C%ED%98%84.ipynb\" target=\"_parent\"><img src=\"https://colab.research.google.com/assets/colab-badge.svg\" alt=\"Open In Colab\"/></a>"
      ]
    },
    {
      "cell_type": "code",
      "execution_count": null,
      "metadata": {
        "id": "XT2f4qi_mCR9"
      },
      "outputs": [],
      "source": [
        "문제 설명\n",
        "Finn은 요즘 수학공부에 빠져 있습니다. 수학 공부를 하던 Finn은 자연수 n을 연속한 자연수들로 표현 하는 방법이 여러개라는 사실을 알게 되었습니다. 예를들어 15는 다음과 같이 4가지로 표현 할 수 있습니다.\n",
        "\n",
        "1 + 2 + 3 + 4 + 5 = 15\n",
        "4 + 5 + 6 = 15\n",
        "7 + 8 = 15\n",
        "15 = 15\n",
        "자연수 n이 매개변수로 주어질 때, 연속된 자연수들로 n을 표현하는 방법의 수를 return하는 solution를 완성해주세요.\n",
        "\n",
        "제한사항\n",
        "n은 10,000 이하의 자연수 입니다.\n",
        "입출력 예\n",
        "n\tresult\n",
        "15\t4\n",
        "입출력 예 설명\n",
        "입출력 예#1\n",
        "문제의 예시와 같습니다."
      ]
    },
    {
      "cell_type": "code",
      "source": [
        "def solution(n):\n",
        "    answer = 0\n",
        "    # 바깥쪽 반복문: 시작 숫자 i\n",
        "    for i in range(1, n + 1):\n",
        "        # 합을 저장할 변수 초기화\n",
        "        curr_sum = 0\n",
        "        for j in range(i, n+1):\n",
        "            curr_sum += j\n",
        "            #print(curr_sum)\n",
        "            if curr_sum ==n:\n",
        "                answer += 1\n",
        "                break   # 합이 n이 되었기에 멈춤\n",
        "            elif curr_sum > n:\n",
        "                break   # 이미 sum의 합이 n을 넘어갔으니 멈춤(의미없음)\n",
        "\n",
        "    return answer"
      ],
      "metadata": {
        "id": "fuoztv9qmFq2"
      },
      "execution_count": null,
      "outputs": []
    },
    {
      "cell_type": "code",
      "source": [],
      "metadata": {
        "id": "prTIcSUGmFs-"
      },
      "execution_count": null,
      "outputs": []
    }
  ]
}