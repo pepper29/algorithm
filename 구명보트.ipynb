{
  "nbformat": 4,
  "nbformat_minor": 0,
  "metadata": {
    "colab": {
      "provenance": [],
      "authorship_tag": "ABX9TyOdhUZFrmZlQyAGJtg5KMjw",
      "include_colab_link": true
    },
    "kernelspec": {
      "name": "python3",
      "display_name": "Python 3"
    },
    "language_info": {
      "name": "python"
    }
  },
  "cells": [
    {
      "cell_type": "markdown",
      "metadata": {
        "id": "view-in-github",
        "colab_type": "text"
      },
      "source": [
        "<a href=\"https://colab.research.google.com/github/pepper29/algorithm/blob/master/%EA%B5%AC%EB%AA%85%EB%B3%B4%ED%8A%B8.ipynb\" target=\"_parent\"><img src=\"https://colab.research.google.com/assets/colab-badge.svg\" alt=\"Open In Colab\"/></a>"
      ]
    },
    {
      "cell_type": "code",
      "execution_count": null,
      "metadata": {
        "id": "QoOq7MvlUHWz"
      },
      "outputs": [],
      "source": [
        "문제 설명\n",
        "무인도에 갇힌 사람들을 구명보트를 이용하여 구출하려고 합니다. 구명보트는 작아서 한 번에 최대 2명씩 밖에 탈 수 없고, 무게 제한도 있습니다.\n",
        "\n",
        "예를 들어, 사람들의 몸무게가 [70kg, 50kg, 80kg, 50kg]이고 구명보트의 무게 제한이 100kg이라면 2번째 사람과 4번째 사람은 같이 탈 수 있지만 1번째 사람과 3번째 사람의 무게의 합은 150kg이므로 구명보트의 무게 제한을 초과하여 같이 탈 수 없습니다.\n",
        "\n",
        "구명보트를 최대한 적게 사용하여 모든 사람을 구출하려고 합니다.\n",
        "\n",
        "사람들의 몸무게를 담은 배열 people과 구명보트의 무게 제한 limit가 매개변수로 주어질 때, 모든 사람을 구출하기 위해 필요한 구명보트 개수의 최솟값을 return 하도록 solution 함수를 작성해주세요.\n",
        "\n",
        "제한사항\n",
        "무인도에 갇힌 사람은 1명 이상 50,000명 이하입니다.\n",
        "각 사람의 몸무게는 40kg 이상 240kg 이하입니다.\n",
        "구명보트의 무게 제한은 40kg 이상 240kg 이하입니다.\n",
        "구명보트의 무게 제한은 항상 사람들의 몸무게 중 최댓값보다 크게 주어지므로 사람들을 구출할 수 없는 경우는 없습니다.\n",
        "입출력 예\n",
        "people\tlimit\treturn\n",
        "[70, 50, 80, 50]\t100\t3\n",
        "[70, 80, 50]\t100\t3\n",
        "※ 2023년 07월 31일 테스트 케이스가 추가되었습니다. 기존에 제출한 코드가 통과하지 못할 수 있습니다."
      ]
    },
    {
      "cell_type": "code",
      "source": [
        "\n",
        "\n",
        "def solution(people, limit):\n",
        "    boat = 0    # 구명보트 개수\n",
        "    people.sort()   # 오름차순 정렬\n",
        "\n",
        "    left = 0\n",
        "    right = len(people) - 1\n",
        "\n",
        "    while left <= right: # 가장 가벼운사람과 가장 무거운 사람 +\n",
        "        sum_weight = people[left]+people[right]\n",
        "\n",
        "        if sum_weight <= limit:\n",
        "            boat +=1\n",
        "            left +=1\n",
        "            right -=1\n",
        "        else:\n",
        "            boat+=1\n",
        "            right -=1\n",
        "\n",
        "    return boat"
      ],
      "metadata": {
        "id": "RLfVi2nQUJgE"
      },
      "execution_count": null,
      "outputs": []
    },
    {
      "cell_type": "code",
      "source": [],
      "metadata": {
        "id": "M9qPtC3fUJhz"
      },
      "execution_count": null,
      "outputs": []
    },
    {
      "cell_type": "code",
      "source": [],
      "metadata": {
        "id": "nouifO9-UJkK"
      },
      "execution_count": null,
      "outputs": []
    }
  ]
}