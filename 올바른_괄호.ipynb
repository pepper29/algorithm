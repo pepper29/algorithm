{
  "nbformat": 4,
  "nbformat_minor": 0,
  "metadata": {
    "colab": {
      "provenance": [],
      "authorship_tag": "ABX9TyMqglY/WNzPGssZeAdqJTSq",
      "include_colab_link": true
    },
    "kernelspec": {
      "name": "python3",
      "display_name": "Python 3"
    },
    "language_info": {
      "name": "python"
    }
  },
  "cells": [
    {
      "cell_type": "markdown",
      "metadata": {
        "id": "view-in-github",
        "colab_type": "text"
      },
      "source": [
        "<a href=\"https://colab.research.google.com/github/pepper29/algorithm/blob/master/%EC%98%AC%EB%B0%94%EB%A5%B8_%EA%B4%84%ED%98%B8.ipynb\" target=\"_parent\"><img src=\"https://colab.research.google.com/assets/colab-badge.svg\" alt=\"Open In Colab\"/></a>"
      ]
    },
    {
      "cell_type": "code",
      "execution_count": null,
      "metadata": {
        "id": "l4RXpzF_fzHv"
      },
      "outputs": [],
      "source": []
    },
    {
      "cell_type": "markdown",
      "source": [
        "문제 설명\n",
        "괄호가 바르게 짝지어졌다는 것은 '(' 문자로 열렸으면 반드시 짝지어서 ')' 문자로 닫혀야 한다는 뜻입니다. 예를 들어\n",
        "\n",
        "\"()()\" 또는 \"(())()\" 는 올바른 괄호입니다.\n",
        "\")()(\" 또는 \"(()(\" 는 올바르지 않은 괄호입니다.\n",
        "'(' 또는 ')' 로만 이루어진 문자열 s가 주어졌을 때, 문자열 s가 올바른 괄호이면 true를 return 하고, 올바르지 않은 괄호이면 false를 return 하는 solution 함수를 완성해 주세요.\n",
        "\n",
        "제한사항\n",
        "문자열 s의 길이 : 100,000 이하의 자연수\n",
        "문자열 s는 '(' 또는 ')' 로만 이루어져 있습니다.\n",
        "입출력 예\n",
        "\n",
        "s\tanswer\n",
        "\"()()\"\ttrue\n",
        "\"(())()\"\ttrue\n",
        "\")()(\"\tfalse\n",
        "\"(()(\"\tfalse\n",
        "\n",
        "입출력 예 설명\n",
        "입출력 예 #1,2,3,4\n",
        "문제의 예시와 같습니다."
      ],
      "metadata": {
        "id": "fotMkiebf9Ua"
      }
    },
    {
      "cell_type": "code",
      "source": [
        "# test 케이스 2개 실패 (5, 11)\n",
        "# 정확성: 61.8\n",
        "# 효율성: 30.5\n",
        "# 합계: 92.3 / 100.0\n",
        "\n",
        "# def solution(s):\n",
        "#     print(s)\n",
        "#     if s[-1] == '('or s[0] == ')':\n",
        "#         answer = False\n",
        "\n",
        "#     elif s[0] == '(' and s[-1] != '(' and s.count('(') != s.count(')') : # 문자열을 셀 때는 count(), 정수형을 셀 때는 len()\n",
        "#         answer = False\n",
        "#     else:\n",
        "#         answer = True\n",
        "#     return answer\n",
        "\n",
        "# 스택으로 풀어야하는 문제\n",
        "\n",
        "def solution(s):\n",
        "    stack = []  # 스택으로 사용할 리스트\n",
        "\n",
        "    for char in s:\n",
        "        if char =='(':\n",
        "            stack.append(char) # ( 여는 괄호일 때 스택에 추가\n",
        "        elif char == ')':\n",
        "            if not stack: # 닫는괄호가 스택에 여는 괄호가 없다면 짝이 없음\n",
        "                return False\n",
        "            stack.pop() # 닫는괄호면서 스택에 ( 가 있다면 짝이 되기에 stack에서 뽑음\n",
        "\n",
        "    return len(stack) == 0 # 모두 처리한 후에 올바르다면 True가 됨\n"
      ],
      "metadata": {
        "id": "utsy6AKGf86x"
      },
      "execution_count": 1,
      "outputs": []
    },
    {
      "cell_type": "code",
      "source": [],
      "metadata": {
        "id": "Q1Y0YaOTgBMv"
      },
      "execution_count": null,
      "outputs": []
    }
  ]
}