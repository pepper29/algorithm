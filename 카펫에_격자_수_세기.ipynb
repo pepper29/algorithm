{
  "nbformat": 4,
  "nbformat_minor": 0,
  "metadata": {
    "colab": {
      "provenance": [],
      "authorship_tag": "ABX9TyOngMLBc+rBCxs50NPlpneq",
      "include_colab_link": true
    },
    "kernelspec": {
      "name": "python3",
      "display_name": "Python 3"
    },
    "language_info": {
      "name": "python"
    }
  },
  "cells": [
    {
      "cell_type": "markdown",
      "metadata": {
        "id": "view-in-github",
        "colab_type": "text"
      },
      "source": [
        "<a href=\"https://colab.research.google.com/github/pepper29/algorithm/blob/master/%EC%B9%B4%ED%8E%AB%EC%97%90_%EA%B2%A9%EC%9E%90_%EC%88%98_%EC%84%B8%EA%B8%B0.ipynb\" target=\"_parent\"><img src=\"https://colab.research.google.com/assets/colab-badge.svg\" alt=\"Open In Colab\"/></a>"
      ]
    },
    {
      "cell_type": "code",
      "execution_count": null,
      "metadata": {
        "id": "5tAczbOjS-g5"
      },
      "outputs": [],
      "source": [
        "문제 설명\n",
        "Leo는 카펫을 사러 갔다가 아래 그림과 같이 중앙에는 노란색으로 칠해져 있고 테두리 1줄은 갈색으로 칠해져 있는 격자 모양 카펫을 봤습니다.\n",
        "\n",
        "carpet.png\n",
        "\n",
        "Leo는 집으로 돌아와서 아까 본 카펫의 노란색과 갈색으로 색칠된 격자의 개수는 기억했지만, 전체 카펫의 크기는 기억하지 못했습니다.\n",
        "\n",
        "Leo가 본 카펫에서 갈색 격자의 수 brown, 노란색 격자의 수 yellow가 매개변수로 주어질 때 카펫의 가로, 세로 크기를 순서대로 배열에 담아 return 하도록 solution 함수를 작성해주세요.\n",
        "\n",
        "제한사항\n",
        "갈색 격자의 수 brown은 8 이상 5,000 이하인 자연수입니다.\n",
        "노란색 격자의 수 yellow는 1 이상 2,000,000 이하인 자연수입니다.\n",
        "카펫의 가로 길이는 세로 길이와 같거나, 세로 길이보다 깁니다.\n",
        "입출력 예\n",
        "brown\tyellow\treturn\n",
        "10\t2\t[4, 3]\n",
        "8\t1\t[3, 3]\n",
        "24\t24\t[8, 6]\n",
        "출처\n",
        "\n",
        "※ 공지 - 2020년 2월 3일 테스트케이스가 추가되었습니다.\n",
        "※ 공지 - 2020년 5월 11일 웹접근성을 고려하여 빨간색을 노란색으로 수정하였습니다."
      ]
    },
    {
      "cell_type": "code",
      "source": [
        "# b + y = total(ea)\n",
        "# b * y = total\n",
        "def solution(brown, yellow):\n",
        "    answer = []\n",
        "    print(brown, yellow)\n",
        "    total = brown + yellow  # 1. 전체 격자 수 확인\n",
        "    for w in range(3, total+1): # w는 최소 3부터 시작해야 양수\n",
        "        print(f'{w}를 체크합니다.')\n",
        "        if total % w == 0:  # w가 total의 약수인지 확인\n",
        "            print('약수이므로 다음단계로 넘어갑니다.')\n",
        "            h = total // w  # h값 구하기\n",
        "\n",
        "            if w >= h:  #카펫의 가로가 ==세로 이거나 >= 세로\n",
        "                if (w-2) * (h-2) == yellow: # 노란색 영역의 가로 세로 곱한 값이 일치하는지 확인\n",
        "                    answer.append(w)\n",
        "                    print('w를 추가합니다.: ',w)\n",
        "                    answer.append(h)\n",
        "                    print('h를 추가합니다.: ',h)\n",
        "                    return answer # 정답을 찾았으므로 바로 반환\n",
        "    #return answer"
      ],
      "metadata": {
        "id": "Inc1diIDS_vR"
      },
      "execution_count": null,
      "outputs": []
    },
    {
      "cell_type": "code",
      "source": [],
      "metadata": {
        "id": "zT5jvFyZS_xg"
      },
      "execution_count": null,
      "outputs": []
    },
    {
      "cell_type": "code",
      "source": [],
      "metadata": {
        "id": "FcZCym-OS_2r"
      },
      "execution_count": null,
      "outputs": []
    },
    {
      "cell_type": "code",
      "source": [],
      "metadata": {
        "id": "FM5IBHGoS_4a"
      },
      "execution_count": null,
      "outputs": []
    }
  ]
}