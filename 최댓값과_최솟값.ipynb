{
  "nbformat": 4,
  "nbformat_minor": 0,
  "metadata": {
    "colab": {
      "provenance": [],
      "authorship_tag": "ABX9TyOSbTHUnBKbdrH+aeA7YVhk",
      "include_colab_link": true
    },
    "kernelspec": {
      "name": "python3",
      "display_name": "Python 3"
    },
    "language_info": {
      "name": "python"
    }
  },
  "cells": [
    {
      "cell_type": "markdown",
      "metadata": {
        "id": "view-in-github",
        "colab_type": "text"
      },
      "source": [
        "<a href=\"https://colab.research.google.com/github/pepper29/algorithm/blob/master/%EC%B5%9C%EB%8C%93%EA%B0%92%EA%B3%BC_%EC%B5%9C%EC%86%9F%EA%B0%92.ipynb\" target=\"_parent\"><img src=\"https://colab.research.google.com/assets/colab-badge.svg\" alt=\"Open In Colab\"/></a>"
      ]
    },
    {
      "cell_type": "code",
      "execution_count": null,
      "metadata": {
        "id": "dJSQrl79fOVF"
      },
      "outputs": [],
      "source": [
        "\"\"\"\n",
        "문제 설명\n",
        "문자열 s에는 공백으로 구분된 숫자들이 저장되어 있습니다. str에 나타나는 숫자 중 최소값과 최대값을 찾아 이를 \"(최소값) (최대값)\"형태의 문자열을 반환하는 함수, solution을 완성하세요.\n",
        "예를들어 s가 \"1 2 3 4\"라면 \"1 4\"를 리턴하고, \"-1 -2 -3 -4\"라면 \"-4 -1\"을 리턴하면 됩니다.\n",
        "\n",
        "제한 조건\n",
        "s에는 둘 이상의 정수가 공백으로 구분되어 있습니다.\n",
        "\n",
        "입출력 예\n",
        "s\treturn\n",
        "\"1 2 3 4\"\t\"1 4\"\n",
        "\"-1 -2 -3 -4\"\t\"-4 -1\"\n",
        "\"-1 -1\"\t\"-1 -1\"\n",
        "\"\"\"\n",
        "\n"
      ]
    },
    {
      "cell_type": "code",
      "source": [
        "def solution(s):\n",
        "    answer = []  # 전체 배열을 담을 리스트\n",
        "    answer2 = [] # 최소, 최대 값을 담을 리스트\n",
        "\n",
        "    s_s = s.split() # 하나의 문자열로 되어있던 s를 하나씩 끊어서 분리\n",
        "    print(s_s)\n",
        "\n",
        "    for i in s_s:   # 배열에서 하나씩 분리\n",
        "        i = int(i)\n",
        "        answer.append(i)\n",
        "        print(answer)\n",
        "\n",
        "    mi = min(answer)    # 최소값\n",
        "    answer2.append(mi)\n",
        "    print(f'{answer2} min')\n",
        "\n",
        "    ma = max(answer)    # 최대값\n",
        "    answer2.append(ma)\n",
        "    print(f'{answer2} min,max')\n",
        "\n",
        "    # 리스트 컴프레헨션: ex) [-1, -4] -> ['-1', '-4'] 리스트 요소에 문자열 추가.\n",
        "    ans = [str(num) for num in answer2]\n",
        "    print(ans)\n",
        "    ans2 = \" \".join(ans)    # 분리한 배열에서 []을 제거 하고 \" \"으로 연결\n",
        "    print(ans2)\n",
        "\n",
        "    return ans2"
      ],
      "metadata": {
        "id": "WWMZ2P5ufRII"
      },
      "execution_count": null,
      "outputs": []
    }
  ]
}