{
  "nbformat": 4,
  "nbformat_minor": 0,
  "metadata": {
    "colab": {
      "provenance": [],
      "authorship_tag": "ABX9TyO4Vo4jmIHvRZaenLHA1GoK",
      "include_colab_link": true
    },
    "kernelspec": {
      "name": "python3",
      "display_name": "Python 3"
    },
    "language_info": {
      "name": "python"
    }
  },
  "cells": [
    {
      "cell_type": "markdown",
      "metadata": {
        "id": "view-in-github",
        "colab_type": "text"
      },
      "source": [
        "<a href=\"https://colab.research.google.com/github/pepper29/algorithm/blob/master/n%5E2_%EB%B0%B0%EC%97%B4_%EC%9E%90%EB%A5%B4.ipynb\" target=\"_parent\"><img src=\"https://colab.research.google.com/assets/colab-badge.svg\" alt=\"Open In Colab\"/></a>"
      ]
    },
    {
      "cell_type": "markdown",
      "source": [
        "### 이 문제의 핵심을 행렬 문제를 행렬로 바라보지 않고 바로 풀어서 정답을 내는데에 있었음. (코테의 99%의 문제가 행렬로 푸는 문제는 없다고 함)"
      ],
      "metadata": {
        "id": "k_a-MgjAGsDW"
      }
    },
    {
      "cell_type": "code",
      "execution_count": null,
      "metadata": {
        "id": "ikIgmT7sGkzw"
      },
      "outputs": [],
      "source": [
        "문제 설명\n",
        "정수 n, left, right가 주어집니다. 다음 과정을 거쳐서 1차원 배열을 만들고자 합니다.\n",
        "\n",
        "n행 n열 크기의 비어있는 2차원 배열을 만듭니다.\n",
        "i = 1, 2, 3, ..., n에 대해서, 다음 과정을 반복합니다.\n",
        "1행 1열부터 i행 i열까지의 영역 내의 모든 빈 칸을 숫자 i로 채웁니다.\n",
        "1행, 2행, ..., n행을 잘라내어 모두 이어붙인 새로운 1차원 배열을 만듭니다.\n",
        "새로운 1차원 배열을 arr이라 할 때, arr[left], arr[left+1], ..., arr[right]만 남기고 나머지는 지웁니다.\n",
        "정수 n, left, right가 매개변수로 주어집니다. 주어진 과정대로 만들어진 1차원 배열을 return 하도록 solution 함수를 완성해주세요.\n",
        "\n",
        "제한사항\n",
        "1 ≤ n ≤ 107\n",
        "0 ≤ left ≤ right < n2\n",
        "right - left < 105\n",
        "입출력 예\n",
        "n\tleft\tright\tresult\n",
        "3\t2\t5\t[3,2,2,3]\n",
        "4\t7\t14\t[4,3,3,3,4,4,4,4]\n",
        "입출력 예 설명\n",
        "입출력 예 #1\n",
        "\n",
        "다음 애니메이션은 주어진 과정대로 1차원 배열을 만드는 과정을 나타낸 것입니다.\n",
        "ex1\n",
        "\n",
        "입출력 예 #2\n",
        "\n",
        "다음 애니메이션은 주어진 과정대로 1차원 배열을 만드는 과정을 나타낸 것입니다.\n"
      ]
    },
    {
      "cell_type": "code",
      "source": [
        "def solution(n, left, right):\n",
        "    answer=[]\n",
        "\n",
        "    # left ~ right 인덱스 k 순회\n",
        "    # k는 위치인덱스\n",
        "    for k in range(left, right+1):\n",
        "        #print(f'k:{k}') # 2,3,4,5가 나옴\n",
        "\n",
        "        # 1. k번째 인덱스가 N*N구조에서 어디에 위치하는지 파악\n",
        "        i = k // n #행 인덱스(0부터 시작) 몫 연산\n",
        "        j = k % n #열 인덱스(0부터 시작) 나머지 연산\n",
        "        #print(f'i:{i},j:{j}')\n",
        "        # 행렬 값 계산 max(행, 열)\n",
        "        value = max(i+1, j+1)\n",
        "        #print(f'value:{value}')\n",
        "        answer.append(value)\n",
        "        #print(f'answer:{answer}')\n",
        "    return answer\n",
        "\n",
        "'''\n",
        "import numpy as np\n",
        "# 타임에러: 원인 너무 많은 이중 for문이 문제.\n",
        "\n",
        "# n은 n*n의 행렬\n",
        "# left, right는 특정 숫자\n",
        "# left~right까지의 숫자를 구하면 됨.\n",
        "def solution(n, left, right):\n",
        "    answer = []\n",
        "    # 1. N x N 행렬을 0으로 설정(초기화)\n",
        "    matrix = np.zeros((n, n), dtype=int)\n",
        "    # n*n 행렬을 채움\n",
        "    for a in range(n): # 행\n",
        "        for b in range(n): # 열\n",
        "            #print('행은:', a+1 ,'열은:', b+1)\n",
        "\n",
        "            # a*b을 할당 ,둘 중에 큰 수를 넣으면 원하는 숫자가 안에 들어감.\n",
        "            matrix[a, b] = max(a+1, b+1)\n",
        "\n",
        "    for row in matrix:\n",
        "        for element in row:\n",
        "            answer.append(int(element))\n",
        "\n",
        "    #print(f'전:{answer}')\n",
        "    answer = answer[left:right+1]\n",
        "    #print(f'후:{answer}')\n",
        "\n",
        "    # 컴프리헨션\n",
        "    #flat = [element for row in matrix for element in row]\n",
        "\n",
        "    return answer\n",
        "'''"
      ],
      "metadata": {
        "id": "TGjkz5qxGlwt"
      },
      "execution_count": null,
      "outputs": []
    },
    {
      "cell_type": "code",
      "source": [],
      "metadata": {
        "id": "XzBtMSMuGl2x"
      },
      "execution_count": null,
      "outputs": []
    },
    {
      "cell_type": "code",
      "source": [],
      "metadata": {
        "id": "--vRQdU2Gl43"
      },
      "execution_count": null,
      "outputs": []
    }
  ]
}