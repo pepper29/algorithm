{
  "nbformat": 4,
  "nbformat_minor": 0,
  "metadata": {
    "colab": {
      "provenance": [],
      "authorship_tag": "ABX9TyOcoYabvqEVCWhgl82qYIdV",
      "include_colab_link": true
    },
    "kernelspec": {
      "name": "python3",
      "display_name": "Python 3"
    },
    "language_info": {
      "name": "python"
    }
  },
  "cells": [
    {
      "cell_type": "markdown",
      "metadata": {
        "id": "view-in-github",
        "colab_type": "text"
      },
      "source": [
        "<a href=\"https://colab.research.google.com/github/pepper29/algorithm/blob/master/%ED%96%89%EB%A0%AC%EC%9D%98_%EA%B3%B1%EC%85%88.ipynb\" target=\"_parent\"><img src=\"https://colab.research.google.com/assets/colab-badge.svg\" alt=\"Open In Colab\"/></a>"
      ]
    },
    {
      "cell_type": "code",
      "execution_count": null,
      "metadata": {
        "id": "0PvvB81qp-QQ"
      },
      "outputs": [],
      "source": [
        "문제 설명\n",
        "2차원 행렬 arr1과 arr2를 입력받아, arr1에 arr2를 곱한 결과를 반환하는 함수, solution을 완성해주세요.\n",
        "\n",
        "제한 조건\n",
        "행렬 arr1, arr2의 행과 열의 길이는 2 이상 100 이하입니다.\n",
        "행렬 arr1, arr2의 원소는 -10 이상 20 이하인 자연수입니다.\n",
        "곱할 수 있는 배열만 주어집니다.\n",
        "입출력 예\n",
        "arr1\tarr2\treturn\n",
        "[[1, 4], [3, 2], [4, 1]]\t[[3, 3], [3, 3]]\t[[15, 15], [15, 15], [15, 15]]\n",
        "[[2, 3, 2], [4, 2, 4], [3, 1, 4]]\t[[5, 4, 3], [2, 4, 1], [3, 1, 1]]\t[[22, 22, 11], [36, 28, 18], [29, 20, 14]]"
      ]
    },
    {
      "cell_type": "code",
      "source": [
        "import numpy as np\n",
        "\n",
        "#np.array(ls).flatten().tolist()\n",
        "# 그냥 np.array() 하면 NumPy 배열 로만 출력이 되지만 .tolist()하면 리스트 형태로 변환됨.\n",
        "def solution(arr1, arr2):\n",
        "    arr1 = np.array(arr1)\n",
        "    arr2 = np.array(arr2)\n",
        "    #print(type(arr1)) # 타입확인\n",
        "    #print(type(arr2)) # 타입확인\n",
        "    answer = np.dot(arr1,arr2).tolist()\n",
        "    #print(type(answer))\n",
        "    #print(answer)\n",
        "    return answer"
      ],
      "metadata": {
        "id": "Ue_AZA7Xp-y-"
      },
      "execution_count": null,
      "outputs": []
    },
    {
      "cell_type": "code",
      "source": [],
      "metadata": {
        "id": "YxzIv1Otp-1F"
      },
      "execution_count": null,
      "outputs": []
    },
    {
      "cell_type": "code",
      "source": [],
      "metadata": {
        "id": "01wOPrZlp-2_"
      },
      "execution_count": null,
      "outputs": []
    }
  ]
}