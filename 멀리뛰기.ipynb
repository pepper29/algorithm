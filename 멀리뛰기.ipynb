{
  "nbformat": 4,
  "nbformat_minor": 0,
  "metadata": {
    "colab": {
      "provenance": [],
      "authorship_tag": "ABX9TyMCuU0/qI76xGPPTEpw/Axb",
      "include_colab_link": true
    },
    "kernelspec": {
      "name": "python3",
      "display_name": "Python 3"
    },
    "language_info": {
      "name": "python"
    }
  },
  "cells": [
    {
      "cell_type": "markdown",
      "metadata": {
        "id": "view-in-github",
        "colab_type": "text"
      },
      "source": [
        "<a href=\"https://colab.research.google.com/github/pepper29/algorithm/blob/master/%EB%A9%80%EB%A6%AC%EB%9B%B0%EA%B8%B0.ipynb\" target=\"_parent\"><img src=\"https://colab.research.google.com/assets/colab-badge.svg\" alt=\"Open In Colab\"/></a>"
      ]
    },
    {
      "cell_type": "code",
      "execution_count": null,
      "metadata": {
        "id": "d5iTXxKQFBG1"
      },
      "outputs": [],
      "source": [
        "문제 설명\n",
        "효진이는 멀리 뛰기를 연습하고 있습니다. 효진이는 한번에 1칸, 또는 2칸을 뛸 수 있습니다. 칸이 총 4개 있을 때, 효진이는\n",
        "(1칸, 1칸, 1칸, 1칸)\n",
        "(1칸, 2칸, 1칸)\n",
        "(1칸, 1칸, 2칸)\n",
        "(2칸, 1칸, 1칸)\n",
        "(2칸, 2칸)\n",
        "의 5가지 방법으로 맨 끝 칸에 도달할 수 있습니다. 멀리뛰기에 사용될 칸의 수 n이 주어질 때, 효진이가 끝에 도달하는 방법이 몇 가지인지 알아내, 여기에 1234567를 나눈 나머지를 리턴하는 함수, solution을 완성하세요. 예를 들어 4가 입력된다면, 5를 return하면 됩니다.\n",
        "\n",
        "제한 사항\n",
        "n은 1 이상, 2000 이하인 정수입니다.\n",
        "입출력 예\n",
        "n\tresult\n",
        "4\t5\n",
        "3\t3\n",
        "입출력 예 설명\n",
        "입출력 예 #1\n",
        "위에서 설명한 내용과 같습니다.\n",
        "\n",
        "입출력 예 #2\n",
        "(2칸, 1칸)\n",
        "(1칸, 2칸)\n",
        "(1칸, 1칸, 1칸)\n",
        "총 3가지 방법으로 멀리 뛸 수 있습니다."
      ]
    },
    {
      "cell_type": "code",
      "source": [
        "    # n=1;\n",
        "    # 1칸 (1)\n",
        "    # n=2;\n",
        "    # 1칸1칸 or 2칸 (2)\n",
        "    # n=3;\n",
        "    # 1칸1칸1칸 or 1칸 2칸 or 2칸 1칸 (3)\n",
        "    # n=4;\n",
        "    # 1,1,1,1 or 1,1,2 or 1,2,1 or 2,1,1 or 2,2 (5)\n",
        "    # n=5;\n",
        "    # 1,1,1,1,1 or 1,1,1,2 or 1,1,2,1 or 1,2,1,1 or 2,1,1,1 or 1,2,2 or 2,1,2 or 2,2,1 (8)\n",
        "#    1 - 2 - 3 - 5 - 8 -(12) - (18) - (25)\n",
        "#    1   1   2   3   4   5      6      7\n",
        "\n",
        "\n",
        "def solution(n):\n",
        "\n",
        "    # n이 1일 때\n",
        "    if n == 1:\n",
        "        return 1\n",
        "\n",
        "    # 피보나치 수열 값을 저장할 배열\n",
        "    # ex 5면 -> [0,0,0,0,0]\n",
        "    dp = [0] * (n + 1)\n",
        "\n",
        "    초기값 설정\n",
        "    dp[1] = 1\n",
        "    dp[2] = 2\n",
        "\n",
        "    # n이 3 이상일 때부터 반복\n",
        "    for i in range(1, n + 1):\n",
        "\n",
        "        # 점화식 적용: F(n) = F(n-1) + F(n-2)\n",
        "        dp[i] = (dp[i-1] + dp[i-2]) % 1234567\n",
        "    print(dp[n])\n",
        "    return dp[n]"
      ],
      "metadata": {
        "id": "hngAEKcAFF3x"
      },
      "execution_count": null,
      "outputs": []
    },
    {
      "cell_type": "code",
      "source": [],
      "metadata": {
        "id": "hJNcgmLhFF8G"
      },
      "execution_count": null,
      "outputs": []
    }
  ]
}