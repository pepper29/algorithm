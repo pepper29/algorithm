{
  "nbformat": 4,
  "nbformat_minor": 0,
  "metadata": {
    "colab": {
      "provenance": [],
      "authorship_tag": "ABX9TyMPV7ZnjL2t5EeoUCLt0DwO",
      "include_colab_link": true
    },
    "kernelspec": {
      "name": "python3",
      "display_name": "Python 3"
    },
    "language_info": {
      "name": "python"
    }
  },
  "cells": [
    {
      "cell_type": "markdown",
      "metadata": {
        "id": "view-in-github",
        "colab_type": "text"
      },
      "source": [
        "<a href=\"https://colab.research.google.com/github/pepper29/algorithm/blob/master/JadenCase_%EB%AC%B8%EC%9E%90%EC%97%B4_%EB%A7%8C%EB%93%A4%EA%B8%B0.ipynb\" target=\"_parent\"><img src=\"https://colab.research.google.com/assets/colab-badge.svg\" alt=\"Open In Colab\"/></a>"
      ]
    },
    {
      "cell_type": "code",
      "execution_count": null,
      "metadata": {
        "id": "ugM6692ouk8p"
      },
      "outputs": [],
      "source": [
        "문제 설명\n",
        "JadenCase란 모든 단어의 첫 문자가 대문자이고, 그 외의 알파벳은 소문자인 문자열입니다. 단, 첫 문자가 알파벳이 아닐 때에는 이어지는 알파벳은 소문자로 쓰면 됩니다. (첫 번째 입출력 예 참고)\n",
        "문자열 s가 주어졌을 때, s를 JadenCase로 바꾼 문자열을 리턴하는 함수, solution을 완성해주세요.\n",
        "\n",
        "제한 조건\n",
        "s는 길이 1 이상 200 이하인 문자열입니다.\n",
        "s는 알파벳과 숫자, 공백문자(\" \")로 이루어져 있습니다.\n",
        "숫자는 단어의 첫 문자로만 나옵니다.\n",
        "숫자로만 이루어진 단어는 없습니다.\n",
        "공백문자가 연속해서 나올 수 있습니다.\n",
        "입출력 예\n",
        "s\treturn\n",
        "\"3people unFollowed me\"\t\"3people Unfollowed Me\"\n",
        "\"for the last week\"\t\"For The Last Week\"\n",
        "※ 공지 - 2022년 1월 14일 제한 조건과 테스트 케이스가 추가되었습니다."
      ]
    },
    {
      "cell_type": "code",
      "source": [
        "def solution(s):\n",
        "    # 처리된 단어들을 담을 리스트\n",
        "    answer_list = []\n",
        "    words = s.split(' ')\n",
        "    #print('words: ',words)\n",
        "    for i in words:\n",
        "        # 1. 빈 문자열일 경우: 그대로 리스트에 추가\n",
        "        #    이것이 나중에 ' '.join()을 통해 연속 공백\n",
        "        if not i:\n",
        "            answer_list.append('')\n",
        "            #print('빈리스트라서 넘어갑니다.')\n",
        "        # 2. 첫 글자가 숫자일 때\n",
        "        elif i[0].isdigit(): # 단, 첫 문자가 알파벳이 아닐 때에는 이어지는 알파벳은 소문자로 쓰면 됩니다.\n",
        "            answer_list.append(i[0] + i[1:].lower())\n",
        "            #print('첫글자가 숫자라서 넘어갑니다.')\n",
        "        # 3. 이외의 문자일 때\n",
        "        else:\n",
        "            answer_list.append(i.capitalize())\n",
        "            #print('처리완료')\n",
        "    # 4. 리스트의 모든 요소를 ' '를 구분자\n",
        "    return ' '.join(answer_list)\n"
      ],
      "metadata": {
        "id": "viLS7lpzulh3"
      },
      "execution_count": null,
      "outputs": []
    }
  ]
}