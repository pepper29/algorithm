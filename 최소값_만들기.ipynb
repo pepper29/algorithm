{
  "nbformat": 4,
  "nbformat_minor": 0,
  "metadata": {
    "colab": {
      "provenance": [],
      "authorship_tag": "ABX9TyP0NLXAdmFVfShVdISIiBUm",
      "include_colab_link": true
    },
    "kernelspec": {
      "name": "python3",
      "display_name": "Python 3"
    },
    "language_info": {
      "name": "python"
    }
  },
  "cells": [
    {
      "cell_type": "markdown",
      "metadata": {
        "id": "view-in-github",
        "colab_type": "text"
      },
      "source": [
        "<a href=\"https://colab.research.google.com/github/pepper29/algorithm/blob/master/%EC%B5%9C%EC%86%8C%EA%B0%92_%EB%A7%8C%EB%93%A4%EA%B8%B0.ipynb\" target=\"_parent\"><img src=\"https://colab.research.google.com/assets/colab-badge.svg\" alt=\"Open In Colab\"/></a>"
      ]
    },
    {
      "cell_type": "code",
      "source": [
        "문제 설명\n",
        "길이가 같은 배열 A, B 두개가 있습니다. 각 배열은 자연수로 이루어져 있습니다.\n",
        "배열 A, B에서 각각 한 개의 숫자를 뽑아 두 수를 곱합니다. 이러한 과정을 배열의 길이만큼 반복하며, 두 수를 곱한 값을 누적하여 더합니다. 이때 최종적으로 누적된 값이 최소가 되도록 만드는 것이 목표입니다. (단, 각 배열에서 k번째 숫자를 뽑았다면 다음에 k번째 숫자는 다시 뽑을 수 없습니다.)\n",
        "\n",
        "예를 들어 A = [1, 4, 2] , B = [5, 4, 4] 라면\n",
        "\n",
        "A에서 첫번째 숫자인 1, B에서 첫번째 숫자인 5를 뽑아 곱하여 더합니다. (누적된 값 : 0 + 5(1x5) = 5)\n",
        "A에서 두번째 숫자인 4, B에서 세번째 숫자인 4를 뽑아 곱하여 더합니다. (누적된 값 : 5 + 16(4x4) = 21)\n",
        "A에서 세번째 숫자인 2, B에서 두번째 숫자인 4를 뽑아 곱하여 더합니다. (누적된 값 : 21 + 8(2x4) = 29)\n",
        "즉, 이 경우가 최소가 되므로 29를 return 합니다.\n",
        "\n",
        "배열 A, B가 주어질 때 최종적으로 누적된 최솟값을 return 하는 solution 함수를 완성해 주세요.\n",
        "\n",
        "제한사항\n",
        "배열 A, B의 크기 : 1,000 이하의 자연수\n",
        "배열 A, B의 원소의 크기 : 1,000 이하의 자연수\n",
        "입출력 예\n",
        "A\tB\tanswer\n",
        "[1, 4, 2]\t[5, 4, 4]\t29\n",
        "[1,2]\t[3,4]\t10\n",
        "입출력 예 설명\n",
        "입출력 예 #1\n",
        "문제의 예시와 같습니다.\n",
        "\n",
        "입출력 예 #2\n",
        "A에서 첫번째 숫자인 1, B에서 두번째 숫자인 4를 뽑아 곱하여 더합니다. (누적된 값 : 4) 다음, A에서 두번째 숫자인 2, B에서 첫번째 숫자인 3을 뽑아 곱하여 더합니다. (누적된 값 : 4 + 6 = 10)\n",
        "이 경우가 최소이므로 10을 return 합니다."
      ],
      "metadata": {
        "id": "A1AczAy-nDHV"
      },
      "execution_count": null,
      "outputs": []
    },
    {
      "cell_type": "code",
      "execution_count": null,
      "metadata": {
        "id": "AAOD1Ujhmi9Y"
      },
      "outputs": [],
      "source": [
        "# 핵심은 가장 작은수와 가장 큰수를 곱해주는것!\n",
        "def solution(A,B):\n",
        "    answer=0\n",
        "    A = sorted(A)\n",
        "    B = sorted(B)\n",
        "    while A and B:\n",
        "        i = A.pop(0)\n",
        "        j = B.pop()\n",
        "        #print('빼낸수:',i,j)\n",
        "        a = i * j\n",
        "        answer += a\n",
        "        #print(f'곱해진값:{i}*{j}=',a)\n",
        "    return answer"
      ]
    },
    {
      "cell_type": "code",
      "source": [],
      "metadata": {
        "id": "GNDLGedBmlqh"
      },
      "execution_count": null,
      "outputs": []
    },
    {
      "cell_type": "code",
      "source": [],
      "metadata": {
        "id": "iLw6Eg56mlsf"
      },
      "execution_count": null,
      "outputs": []
    },
    {
      "cell_type": "code",
      "source": [],
      "metadata": {
        "id": "vMBikZ-pmluK"
      },
      "execution_count": null,
      "outputs": []
    }
  ]
}