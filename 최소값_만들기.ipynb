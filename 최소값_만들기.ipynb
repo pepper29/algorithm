{
  "nbformat": 4,
  "nbformat_minor": 0,
  "metadata": {
    "colab": {
      "provenance": [],
      "authorship_tag": "ABX9TyO1ArDjNb0+FbaGwZU9bxLo",
      "include_colab_link": true
    },
    "kernelspec": {
      "name": "python3",
      "display_name": "Python 3"
    },
    "language_info": {
      "name": "python"
    }
  },
  "cells": [
    {
      "cell_type": "markdown",
      "metadata": {
        "id": "view-in-github",
        "colab_type": "text"
      },
      "source": [
        "<a href=\"https://colab.research.google.com/github/pepper29/algorithm/blob/master/%EC%B5%9C%EC%86%8C%EA%B0%92_%EB%A7%8C%EB%93%A4%EA%B8%B0.ipynb\" target=\"_parent\"><img src=\"https://colab.research.google.com/assets/colab-badge.svg\" alt=\"Open In Colab\"/></a>"
      ]
    },
    {
      "cell_type": "code",
      "execution_count": null,
      "metadata": {
        "id": "AAOD1Ujhmi9Y"
      },
      "outputs": [],
      "source": [
        "# 핵심은 가장 작은수와 가장 큰수를 곱해주는것!\n",
        "def solution(A,B):\n",
        "    answer=0\n",
        "    A = sorted(A)\n",
        "    B = sorted(B)\n",
        "    while A and B:\n",
        "        i = A.pop(0)\n",
        "        j = B.pop()\n",
        "        #print('빼낸수:',i,j)\n",
        "        a = i * j\n",
        "        answer += a\n",
        "        #print(f'곱해진값:{i}*{j}=',a)\n",
        "    return answer"
      ]
    },
    {
      "cell_type": "code",
      "source": [],
      "metadata": {
        "id": "GNDLGedBmlqh"
      },
      "execution_count": null,
      "outputs": []
    },
    {
      "cell_type": "code",
      "source": [],
      "metadata": {
        "id": "iLw6Eg56mlsf"
      },
      "execution_count": null,
      "outputs": []
    },
    {
      "cell_type": "code",
      "source": [],
      "metadata": {
        "id": "vMBikZ-pmluK"
      },
      "execution_count": null,
      "outputs": []
    }
  ]
}